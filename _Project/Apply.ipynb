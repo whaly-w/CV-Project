{
 "cells": [
  {
   "cell_type": "code",
   "execution_count": 137,
   "id": "e337a2f8-0caf-4b21-bdb3-6c2767e016f7",
   "metadata": {},
   "outputs": [],
   "source": [
    "import cv2\n",
    "from matplotlib import pyplot as plt\n",
    "import numpy as np\n",
    "import os\n",
    "from tqdm import tqdm\n",
    "import pandas as pd\n",
    "import math"
   ]
  },
  {
   "cell_type": "markdown",
   "id": "d3d3eba0-82ab-4f90-b199-080130538666",
   "metadata": {},
   "source": [
    "## Parameters"
   ]
  },
  {
   "cell_type": "code",
   "execution_count": 138,
   "id": "e8859699-ba1c-48de-9955-6a39d4fb02fe",
   "metadata": {},
   "outputs": [],
   "source": [
    "# files_path = r\"C:\\Users\\chiss\\__WISH\\_KMITL\\ComputerVision\\_Project\\dataset\"\n",
    "# destination_path = r\"C:\\Users\\chiss\\__WISH\\_KMITL\\ComputerVision\\_Project\\dataset\\result\"\n",
    "\n",
    "files_path = r'D:\\KMITL\\KMITL\\Year 02 - 02\\Computer Vision\\Work\\A02_17_2024_Project\\V2\\dataset'\n",
    "destination_path = r'D:\\KMITL\\KMITL\\Year 02 - 02\\Computer Vision\\Work\\A02_17_2024_Project\\V2\\dataset\\result'\n",
    "multiplier = 0.95"
   ]
  },
  {
   "cell_type": "markdown",
   "id": "71f8f4dd-3c6c-4674-aff7-a58c1d48d687",
   "metadata": {},
   "source": [
    "## Inspection Function"
   ]
  },
  {
   "cell_type": "code",
   "execution_count": 139,
   "id": "82a5a1af-5acf-4f23-bce1-40c43bfd3d4c",
   "metadata": {},
   "outputs": [],
   "source": [
    "def find_pingpong(frame):\n",
    "    summary = []\n",
    "    qualify = 0\n",
    "    img = cv2.imread(frame)\n",
    "    img = cv2.resize(img, None, fx=0.2, fy=0.2)\n",
    "    print('-------------------------------| file:', frame)\n",
    "    \n",
    "    \n",
    "    ## ------ Image Proparation\n",
    "    HSV_img = cv2.cvtColor(img, cv2.COLOR_BGR2HSV)\n",
    "\n",
    "    # Get white mask (pinpong ball colour mask)\n",
    "    lower = np.array([0, 0, 130])\n",
    "    upper = np.array([40,80, 255])\n",
    "    white_mask = cv2.inRange(HSV_img, lower, upper)\n",
    "    out = cv2.bitwise_and(img, img, mask = white_mask)\n",
    "    img_res = cv2.morphologyEx(white_mask, cv2.MORPH_OPEN, np.ones((9, 9)), iterations= 2)\n",
    "\n",
    "\n",
    "    ## ------ Significant Roundness Detection\n",
    "    circles = cv2.HoughCircles(img_res, cv2.HOUGH_GRADIENT,\n",
    "                           dp= 0.8, minDist= 200,\n",
    "                           param1= 10, param2= 10, \n",
    "                           minRadius= 112, maxRadius= 130)\n",
    "    \n",
    "    # Can't fit circle\n",
    "    if circles is None:\n",
    "        summary = [\"Significant not round\", \"-\", \"-\"]\n",
    "        return None, summary , qualify\n",
    "        \n",
    "    img_rgb = img.copy()\n",
    "    pingPong = (0, 0, 0)\n",
    "    img_rgb = img.copy()\n",
    "    pingPong = (0, 0, 0)\n",
    "    X,Y,R = 0,0,0\n",
    "    for x, y, r in circles[0]:\n",
    "        if r > R:\n",
    "            X,Y,R = x, y, r\n",
    "    cv2.circle(img_rgb, (int(X), int(Y)), int(R), (255, 0, 0), thickness= 5)\n",
    "    cv2.circle(img_rgb, (int(X), int(Y)), 5, (255, 0, 0), thickness= -1)\n",
    "        \n",
    "    pingPong = ((int(X), int(Y)), int(R))\n",
    "    print('R:', pingPong)\n",
    "\n",
    "\n",
    "    ## ------ Crop Out Background\n",
    "    mask = np.zeros(img.shape, dtype=np.uint8) \n",
    "    cv2.circle(mask, pingPong[0], pingPong[1], (255,255,255), thickness=-1)  \n",
    "    mask = cv2.cvtColor(mask, cv2.COLOR_BGR2GRAY)\n",
    "    img_pingpong = cv2.bitwise_and(img, img, mask=mask)\n",
    "    img_pingpong_cropped = cv2.getRectSubPix(img_pingpong, (pingPong[1]*2+20, pingPong[1]*2+20), pingPong[0])\n",
    "    img_pingpong_cropped_gray = cv2.cvtColor(img_pingpong_cropped, cv2.COLOR_BGR2GRAY)\n",
    "\n",
    "\n",
    "    ## ------ Roundness Detection\n",
    "    _,tsh = cv2.threshold(img_pingpong_cropped_gray, 130, 255, cv2.THRESH_BINARY)\n",
    "    tsh = cv2.morphologyEx(tsh, cv2.MORPH_CLOSE, np.ones((5, 5)), iterations= 2)\n",
    "    \n",
    "    contour, H = cv2.findContours(tsh, cv2.RETR_EXTERNAL, cv2.CHAIN_APPROX_NONE)\n",
    "    contourArea = []\n",
    "    imgTest = img_pingpong_cropped.copy()\n",
    "    for i in range(len(contour)):\n",
    "        area = cv2.contourArea(contour[i])\n",
    "        print(\"index\", i, \"\\tContourArea\", area)\n",
    "        contourArea.append(area)\n",
    "        \n",
    "    # Calculate contour area\n",
    "    max_contour_area = max(contourArea)\n",
    "    max_contour_index = contourArea.index(max_contour_area)\n",
    "    cv2.drawContours(imgTest, contour, max_contour_index, (255,0,0), thickness = -1)\n",
    "    \n",
    "    # Calculate Hough Circle area\n",
    "    conditionArea = multiplier*(math.pi * ((pingPong[1])**2))\n",
    "    \n",
    "    print(f\"Condition the area: {conditionArea} \")\n",
    "    print(f\"Contur Area: {max_contour_area}\")\n",
    "    if area < conditionArea:\n",
    "        print(\"Not round\")\n",
    "        summary.append(\"NOT round\")\n",
    "    else:\n",
    "        print(\"pass\")\n",
    "        summary.append(\"round\")\n",
    "        qualify += 1\n",
    "    summary.append(str(max_contour_area))\n",
    "    \n",
    "    \n",
    "    ## ------ Filter Branding Text\n",
    "    text_edge = cv2.Canny(img_pingpong_cropped, 20, 220)\n",
    "    edge = cv2.Canny(img_pingpong_cropped, 30, 100)\n",
    "    defects = cv2.bitwise_xor(edge, text_edge)\n",
    "\n",
    "\n",
    "    ## ------ Defection Detection\n",
    "    defects_connect = cv2.morphologyEx(defects, cv2.MORPH_CLOSE, np.ones((9, 9)), iterations= 2)\n",
    "    contours_9, _ = cv2.findContours(defects, cv2.RETR_LIST, cv2.CHAIN_APPROX_SIMPLE)\n",
    "    \n",
    "    # If length over the threshold, draw the bounding contour \n",
    "    img_contour = img_pingpong_cropped.copy()\n",
    "    n_defect = 0\n",
    "    for contour in contours_9:\n",
    "        arc_length = cv2.arcLength(contour, True)\n",
    "        \n",
    "        # print(arc_length)\n",
    "        if arc_length > 100:\n",
    "            cv2.drawContours(img_contour, [contour], -1, (0, 255, 0), 3)\n",
    "            n_defect+= 1\n",
    "        # if cv2.arcLength(contour, True)\n",
    "    \n",
    "    \n",
    "    ## ------ Conclude\n",
    "    if n_defect != 0:\n",
    "        print('found defection')\n",
    "        summary.append(\"DEFECTED\")\n",
    "    else:\n",
    "        print('not found')\n",
    "        summary.append(\"no defection\")\n",
    "        qualify += 1\n",
    "    img_list = [img_pingpong_cropped, imgTest, text_edge, edge, defects, defects_connect,  img_contour]\n",
    "    img_list_rgb = []\n",
    "    for image in img_list:\n",
    "        # print(image.shape)\n",
    "        if len(image.shape) < 3:\n",
    "            imgPREP = cv2.cvtColor(image, cv2.COLOR_GRAY2RGB)\n",
    "        else:\n",
    "            # imgPREP = image[:,:, ::-1]\n",
    "            imgPREP = image\n",
    "        img_list_rgb.append(imgPREP)\n",
    "        \n",
    "    result = cv2.hconcat(img_list_rgb)\n",
    "    # plt.imshow(result)\n",
    "    return result, summary, qualify"
   ]
  },
  {
   "cell_type": "markdown",
   "id": "2ce4fd18-4ad3-4e35-a756-bd2521f88e85",
   "metadata": {},
   "source": [
    "## Main Run"
   ]
  },
  {
   "cell_type": "code",
   "execution_count": 140,
   "id": "a09a15de",
   "metadata": {},
   "outputs": [
    {
     "name": "stdout",
     "output_type": "stream",
     "text": [
      "-------------------------------| file: D:\\KMITL\\KMITL\\Year 02 - 02\\Computer Vision\\Work\\A02_17_2024_Project\\V2\\dataset/IMG_5062.jpg\n",
      "R: ((300, 431), 113)\n",
      "index 0 \tContourArea 39053.5\n",
      "Condition the area: 38109.24676400366 \n",
      "Contur Area: 39053.5\n",
      "pass\n",
      "not found\n",
      "\n",
      "<---- Result ---->\n",
      "Pass qualification: 2\n",
      "Summary: ['round', '39053.5', 'no defection']\n"
     ]
    },
    {
     "data": {
      "text/plain": [
       "<matplotlib.image.AxesImage at 0x1f2320c9430>"
      ]
     },
     "execution_count": 140,
     "metadata": {},
     "output_type": "execute_result"
    },
    {
     "data": {
      "image/png": "[encoded data removed]",
      "text/plain": [
       "<Figure size 640x480 with 1 Axes>"
      ]
     },
     "metadata": {},
     "output_type": "display_data"
    }
   ],
   "source": [
    "# Single Shot\n",
    "sample_img_path = files_path + '/IMG_5062.jpg'\n",
    "res, summary, qualify = find_pingpong(sample_img_path)\n",
    "\n",
    "print('\\n<---- Result ---->\\nPass qualification:', qualify)\n",
    "print('Summary:', summary)\n",
    "\n",
    "plt.imshow(res)"
   ]
  },
  {
   "cell_type": "code",
   "execution_count": 141,
   "id": "c07e5573-b186-4251-a38a-f4a8677e1f47",
   "metadata": {
    "scrolled": true
   },
   "outputs": [
    {
     "name": "stderr",
     "output_type": "stream",
     "text": [
      "  5%|▌         | 1/19 [00:00<00:02,  6.50it/s]"
     ]
    },
    {
     "name": "stdout",
     "output_type": "stream",
     "text": [
      "-------------------------------| file: D:\\KMITL\\KMITL\\Year 02 - 02\\Computer Vision\\Work\\A02_17_2024_Project\\V2\\dataset\\IMG_5062.JPG\n",
      "R: ((300, 431), 113)\n",
      "index 0 \tContourArea 39053.5\n",
      "Condition the area: 38109.24676400366 \n",
      "Contur Area: 39053.5\n",
      "pass\n",
      "not found\n",
      "-------------------------------| file: D:\\KMITL\\KMITL\\Year 02 - 02\\Computer Vision\\Work\\A02_17_2024_Project\\V2\\dataset\\IMG_5063.JPG\n",
      "R: ((302, 434), 114)\n",
      "index 0 \tContourArea 39335.5\n",
      "Condition the area: 38786.731219750305 \n",
      "Contur Area: 39335.5\n",
      "pass\n",
      "not found\n"
     ]
    },
    {
     "name": "stderr",
     "output_type": "stream",
     "text": [
      " 21%|██        | 4/19 [00:00<00:02,  6.61it/s]"
     ]
    },
    {
     "name": "stdout",
     "output_type": "stream",
     "text": [
      "-------------------------------| file: D:\\KMITL\\KMITL\\Year 02 - 02\\Computer Vision\\Work\\A02_17_2024_Project\\V2\\dataset\\IMG_5064.JPG\n",
      "R: ((303, 432), 113)\n",
      "index 0 \tContourArea 38857.0\n",
      "Condition the area: 38109.24676400366 \n",
      "Contur Area: 38857.0\n",
      "pass\n",
      "not found\n",
      "-------------------------------| file: D:\\KMITL\\KMITL\\Year 02 - 02\\Computer Vision\\Work\\A02_17_2024_Project\\V2\\dataset\\IMG_5065.JPG\n",
      "R: ((299, 432), 113)\n",
      "index 0 \tContourArea 38841.5\n",
      "Condition the area: 38109.24676400366 \n",
      "Contur Area: 38841.5\n",
      "pass\n",
      "not found\n"
     ]
    },
    {
     "name": "stderr",
     "output_type": "stream",
     "text": [
      " 32%|███▏      | 6/19 [00:00<00:02,  6.40it/s]"
     ]
    },
    {
     "name": "stdout",
     "output_type": "stream",
     "text": [
      "-------------------------------| file: D:\\KMITL\\KMITL\\Year 02 - 02\\Computer Vision\\Work\\A02_17_2024_Project\\V2\\dataset\\IMG_5066.JPG\n",
      "R: ((301, 434), 115)\n",
      "index 0 \tContourArea 39725.5\n",
      "Condition the area: 39470.18470153876 \n",
      "Contur Area: 39725.5\n",
      "pass\n",
      "not found\n",
      "-------------------------------| file: D:\\KMITL\\KMITL\\Year 02 - 02\\Computer Vision\\Work\\A02_17_2024_Project\\V2\\dataset\\IMG_5067.JPG\n",
      "R: ((300, 430), 113)\n",
      "index 0 \tContourArea 38950.0\n",
      "Condition the area: 38109.24676400366 \n",
      "Contur Area: 38950.0\n",
      "pass\n",
      "found defection\n"
     ]
    },
    {
     "name": "stderr",
     "output_type": "stream",
     "text": [
      " 42%|████▏     | 8/19 [00:01<00:01,  6.37it/s]"
     ]
    },
    {
     "name": "stdout",
     "output_type": "stream",
     "text": [
      "-------------------------------| file: D:\\KMITL\\KMITL\\Year 02 - 02\\Computer Vision\\Work\\A02_17_2024_Project\\V2\\dataset\\IMG_5068.JPG\n",
      "R: ((299, 432), 113)\n",
      "index 0 \tContourArea 0.0\n",
      "index 1 \tContourArea 38860.0\n",
      "Condition the area: 38109.24676400366 \n",
      "Contur Area: 38860.0\n",
      "pass\n",
      "found defection\n",
      "-------------------------------| file: D:\\KMITL\\KMITL\\Year 02 - 02\\Computer Vision\\Work\\A02_17_2024_Project\\V2\\dataset\\IMG_5069.JPG\n",
      "R: ((299, 433), 115)\n",
      "index 0 \tContourArea 0.0\n",
      "index 1 \tContourArea 38120.0\n",
      "Condition the area: 39470.18470153876 \n",
      "Contur Area: 38120.0\n",
      "Not round\n",
      "not found\n"
     ]
    },
    {
     "name": "stderr",
     "output_type": "stream",
     "text": [
      " 47%|████▋     | 9/19 [00:01<00:01,  6.17it/s]"
     ]
    },
    {
     "name": "stdout",
     "output_type": "stream",
     "text": [
      "-------------------------------| file: D:\\KMITL\\KMITL\\Year 02 - 02\\Computer Vision\\Work\\A02_17_2024_Project\\V2\\dataset\\IMG_5070.JPG\n",
      "R: ((300, 430), 113)\n",
      "index 0 \tContourArea 38964.0\n",
      "Condition the area: 38109.24676400366 \n",
      "Contur Area: 38964.0\n",
      "pass\n",
      "found defection\n",
      "-------------------------------| file: D:\\KMITL\\KMITL\\Year 02 - 02\\Computer Vision\\Work\\A02_17_2024_Project\\V2\\dataset\\IMG_5071.JPG\n",
      "R: ((290, 430), 114)\n",
      "index 0 \tContourArea 38459.5\n",
      "Condition the area: 38786.731219750305 \n",
      "Contur Area: 38459.5\n",
      "Not round\n"
     ]
    },
    {
     "name": "stderr",
     "output_type": "stream",
     "text": [
      " 58%|█████▊    | 11/19 [00:01<00:01,  6.22it/s]"
     ]
    },
    {
     "name": "stdout",
     "output_type": "stream",
     "text": [
      "not found\n",
      "-------------------------------| file: D:\\KMITL\\KMITL\\Year 02 - 02\\Computer Vision\\Work\\A02_17_2024_Project\\V2\\dataset\\IMG_5072.JPG\n",
      "R: ((299, 431), 113)\n",
      "index 0 \tContourArea 38750.0\n",
      "Condition the area: 38109.24676400366 \n",
      "Contur Area: 38750.0\n",
      "pass\n",
      "found defection\n"
     ]
    },
    {
     "name": "stderr",
     "output_type": "stream",
     "text": [
      " 68%|██████▊   | 13/19 [00:02<00:00,  6.18it/s]"
     ]
    },
    {
     "name": "stdout",
     "output_type": "stream",
     "text": [
      "-------------------------------| file: D:\\KMITL\\KMITL\\Year 02 - 02\\Computer Vision\\Work\\A02_17_2024_Project\\V2\\dataset\\IMG_5073.JPG\n",
      "R: ((289, 437), 116)\n",
      "index 0 \tContourArea 36466.5\n",
      "Condition the area: 40159.60720936904 \n",
      "Contur Area: 36466.5\n",
      "Not round\n",
      "not found\n",
      "-------------------------------| file: D:\\KMITL\\KMITL\\Year 02 - 02\\Computer Vision\\Work\\A02_17_2024_Project\\V2\\dataset\\IMG_5074.JPG\n",
      "R: ((298, 429), 112)\n",
      "index 0 \tContourArea 0.5\n",
      "index 1 \tContourArea 38255.0\n",
      "Condition the area: 37437.73133429884 \n",
      "Contur Area: 38255.0\n",
      "pass\n",
      "found defection\n"
     ]
    },
    {
     "name": "stderr",
     "output_type": "stream",
     "text": [
      " 79%|███████▉  | 15/19 [00:02<00:00,  6.24it/s]"
     ]
    },
    {
     "name": "stdout",
     "output_type": "stream",
     "text": [
      "-------------------------------| file: D:\\KMITL\\KMITL\\Year 02 - 02\\Computer Vision\\Work\\A02_17_2024_Project\\V2\\dataset\\IMG_5075.JPG\n",
      "R: ((300, 426), 113)\n",
      "index 0 \tContourArea 37715.0\n",
      "Condition the area: 38109.24676400366 \n",
      "Contur Area: 37715.0\n",
      "Not round\n",
      "found defection\n",
      "-------------------------------| file: D:\\KMITL\\KMITL\\Year 02 - 02\\Computer Vision\\Work\\A02_17_2024_Project\\V2\\dataset\\IMG_5076.jpg\n"
     ]
    },
    {
     "name": "stderr",
     "output_type": "stream",
     "text": [
      " 89%|████████▉ | 17/19 [00:02<00:00,  6.36it/s]"
     ]
    },
    {
     "name": "stdout",
     "output_type": "stream",
     "text": [
      "-------------------------------| file: D:\\KMITL\\KMITL\\Year 02 - 02\\Computer Vision\\Work\\A02_17_2024_Project\\V2\\dataset\\IMG_5077.jpg\n",
      "-------------------------------| file: D:\\KMITL\\KMITL\\Year 02 - 02\\Computer Vision\\Work\\A02_17_2024_Project\\V2\\dataset\\IMG_5078.jpg\n"
     ]
    },
    {
     "name": "stderr",
     "output_type": "stream",
     "text": [
      "100%|██████████| 19/19 [00:02<00:00,  6.69it/s]\n"
     ]
    },
    {
     "name": "stdout",
     "output_type": "stream",
     "text": [
      "-------------------------------| file: D:\\KMITL\\KMITL\\Year 02 - 02\\Computer Vision\\Work\\A02_17_2024_Project\\V2\\dataset\\IMG_5079.jpg\n",
      "error\n"
     ]
    },
    {
     "data": {
      "image/png": "[encoded data removed]",
      "text/plain": [
       "<Figure size 640x480 with 1 Axes>"
      ]
     },
     "metadata": {},
     "output_type": "display_data"
    }
   ],
   "source": [
    "# Multiple data\n",
    "data_log = []\n",
    "for file in tqdm(os.listdir(files_path)):\n",
    "    f = os.path.join(files_path, file)\n",
    "    \n",
    "    try:\n",
    "        out, summary, qualify = find_pingpong(f)\n",
    "    except:\n",
    "        print('error')\n",
    "        continue\n",
    "    \n",
    "    if qualify == 2:\n",
    "        data_log.append([file] + summary + [\"QUALIFY\"])\n",
    "    else:\n",
    "        data_log.append([file] + summary + [\"REJECT\"])\n",
    "    \n",
    "    if out is not None:\n",
    "        cv2.imwrite(os.path.join(destination_path, file), out)\n",
    "        plt.imshow(out)\n",
    "    \n",
    "# Save data to CSV      \n",
    "df = pd.DataFrame(data_log, columns=[\"Image_Name\", \"Roundness\", \"Contour Area\", \"Defection\", \"Status\"])\n",
    "df.to_csv(os.path.join(destination_path, \"dataLOG.csv\"))"
   ]
  }
 ],
 "metadata": {
  "kernelspec": {
   "display_name": "Python 3 (ipykernel)",
   "language": "python",
   "name": "python3"
  },
  "language_info": {
   "codemirror_mode": {
    "name": "ipython",
    "version": 3
   },
   "file_extension": ".py",
   "mimetype": "text/x-python",
   "name": "python",
   "nbconvert_exporter": "python",
   "pygments_lexer": "ipython3",
   "version": "3.9.18"
  }
 },
 "nbformat": 4,
 "nbformat_minor": 5
}
